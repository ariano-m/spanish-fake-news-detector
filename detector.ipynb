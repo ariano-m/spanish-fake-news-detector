{
 "nbformat": 4,
 "nbformat_minor": 0,
 "metadata": {
  "colab": {
   "provenance": [],
   "gpuType": "T4"
  },
  "kernelspec": {
   "name": "python3",
   "language": "python",
   "display_name": "Python 3 (ipykernel)"
  },
  "language_info": {
   "name": "python"
  },
  "accelerator": "GPU",
  "widgets": {
   "application/vnd.jupyter.widget-state+json": {
    "c0c571dec528477dab7b80945d7af5d4": {
     "model_module": "@jupyter-widgets/controls",
     "model_name": "HBoxModel",
     "model_module_version": "1.5.0",
     "state": {
      "_dom_classes": [],
      "_model_module": "@jupyter-widgets/controls",
      "_model_module_version": "1.5.0",
      "_model_name": "HBoxModel",
      "_view_count": null,
      "_view_module": "@jupyter-widgets/controls",
      "_view_module_version": "1.5.0",
      "_view_name": "HBoxView",
      "box_style": "",
      "children": [
       "IPY_MODEL_562223fa44024bc0984b7b44bd21cd99",
       "IPY_MODEL_843ae5c1119a46d4a89b680fe1a6b52e",
       "IPY_MODEL_58cd8c1fb2aa4dd1bb7c397e413ee431"
      ],
      "layout": "IPY_MODEL_cbf49d6893e34465b2081a4c5e7d251d"
     }
    },
    "562223fa44024bc0984b7b44bd21cd99": {
     "model_module": "@jupyter-widgets/controls",
     "model_name": "HTMLModel",
     "model_module_version": "1.5.0",
     "state": {
      "_dom_classes": [],
      "_model_module": "@jupyter-widgets/controls",
      "_model_module_version": "1.5.0",
      "_model_name": "HTMLModel",
      "_view_count": null,
      "_view_module": "@jupyter-widgets/controls",
      "_view_module_version": "1.5.0",
      "_view_name": "HTMLView",
      "description": "",
      "description_tooltip": null,
      "layout": "IPY_MODEL_011d61001b2b45a786445fbe9c1dbd19",
      "placeholder": "​",
      "style": "IPY_MODEL_73707fc9150b428e949147d7ffb1f100",
      "value": "Map: 100%"
     }
    },
    "843ae5c1119a46d4a89b680fe1a6b52e": {
     "model_module": "@jupyter-widgets/controls",
     "model_name": "FloatProgressModel",
     "model_module_version": "1.5.0",
     "state": {
      "_dom_classes": [],
      "_model_module": "@jupyter-widgets/controls",
      "_model_module_version": "1.5.0",
      "_model_name": "FloatProgressModel",
      "_view_count": null,
      "_view_module": "@jupyter-widgets/controls",
      "_view_module_version": "1.5.0",
      "_view_name": "ProgressView",
      "bar_style": "success",
      "description": "",
      "description_tooltip": null,
      "layout": "IPY_MODEL_3a50a1ff2d0a46f487b5c3087bc58966",
      "max": 1800,
      "min": 0,
      "orientation": "horizontal",
      "style": "IPY_MODEL_235d208d83b44d82b5b4b1a8a09b3c21",
      "value": 1800
     }
    },
    "58cd8c1fb2aa4dd1bb7c397e413ee431": {
     "model_module": "@jupyter-widgets/controls",
     "model_name": "HTMLModel",
     "model_module_version": "1.5.0",
     "state": {
      "_dom_classes": [],
      "_model_module": "@jupyter-widgets/controls",
      "_model_module_version": "1.5.0",
      "_model_name": "HTMLModel",
      "_view_count": null,
      "_view_module": "@jupyter-widgets/controls",
      "_view_module_version": "1.5.0",
      "_view_name": "HTMLView",
      "description": "",
      "description_tooltip": null,
      "layout": "IPY_MODEL_807abfa157cf42bba9d45adfe3b3efe2",
      "placeholder": "​",
      "style": "IPY_MODEL_d979cb6451c047cbab208f878ada9e7a",
      "value": " 1800/1800 [00:01&lt;00:00, 1138.15 examples/s]"
     }
    },
    "cbf49d6893e34465b2081a4c5e7d251d": {
     "model_module": "@jupyter-widgets/base",
     "model_name": "LayoutModel",
     "model_module_version": "1.2.0",
     "state": {
      "_model_module": "@jupyter-widgets/base",
      "_model_module_version": "1.2.0",
      "_model_name": "LayoutModel",
      "_view_count": null,
      "_view_module": "@jupyter-widgets/base",
      "_view_module_version": "1.2.0",
      "_view_name": "LayoutView",
      "align_content": null,
      "align_items": null,
      "align_self": null,
      "border": null,
      "bottom": null,
      "display": null,
      "flex": null,
      "flex_flow": null,
      "grid_area": null,
      "grid_auto_columns": null,
      "grid_auto_flow": null,
      "grid_auto_rows": null,
      "grid_column": null,
      "grid_gap": null,
      "grid_row": null,
      "grid_template_areas": null,
      "grid_template_columns": null,
      "grid_template_rows": null,
      "height": null,
      "justify_content": null,
      "justify_items": null,
      "left": null,
      "margin": null,
      "max_height": null,
      "max_width": null,
      "min_height": null,
      "min_width": null,
      "object_fit": null,
      "object_position": null,
      "order": null,
      "overflow": null,
      "overflow_x": null,
      "overflow_y": null,
      "padding": null,
      "right": null,
      "top": null,
      "visibility": null,
      "width": null
     }
    },
    "011d61001b2b45a786445fbe9c1dbd19": {
     "model_module": "@jupyter-widgets/base",
     "model_name": "LayoutModel",
     "model_module_version": "1.2.0",
     "state": {
      "_model_module": "@jupyter-widgets/base",
      "_model_module_version": "1.2.0",
      "_model_name": "LayoutModel",
      "_view_count": null,
      "_view_module": "@jupyter-widgets/base",
      "_view_module_version": "1.2.0",
      "_view_name": "LayoutView",
      "align_content": null,
      "align_items": null,
      "align_self": null,
      "border": null,
      "bottom": null,
      "display": null,
      "flex": null,
      "flex_flow": null,
      "grid_area": null,
      "grid_auto_columns": null,
      "grid_auto_flow": null,
      "grid_auto_rows": null,
      "grid_column": null,
      "grid_gap": null,
      "grid_row": null,
      "grid_template_areas": null,
      "grid_template_columns": null,
      "grid_template_rows": null,
      "height": null,
      "justify_content": null,
      "justify_items": null,
      "left": null,
      "margin": null,
      "max_height": null,
      "max_width": null,
      "min_height": null,
      "min_width": null,
      "object_fit": null,
      "object_position": null,
      "order": null,
      "overflow": null,
      "overflow_x": null,
      "overflow_y": null,
      "padding": null,
      "right": null,
      "top": null,
      "visibility": null,
      "width": null
     }
    },
    "73707fc9150b428e949147d7ffb1f100": {
     "model_module": "@jupyter-widgets/controls",
     "model_name": "DescriptionStyleModel",
     "model_module_version": "1.5.0",
     "state": {
      "_model_module": "@jupyter-widgets/controls",
      "_model_module_version": "1.5.0",
      "_model_name": "DescriptionStyleModel",
      "_view_count": null,
      "_view_module": "@jupyter-widgets/base",
      "_view_module_version": "1.2.0",
      "_view_name": "StyleView",
      "description_width": ""
     }
    },
    "3a50a1ff2d0a46f487b5c3087bc58966": {
     "model_module": "@jupyter-widgets/base",
     "model_name": "LayoutModel",
     "model_module_version": "1.2.0",
     "state": {
      "_model_module": "@jupyter-widgets/base",
      "_model_module_version": "1.2.0",
      "_model_name": "LayoutModel",
      "_view_count": null,
      "_view_module": "@jupyter-widgets/base",
      "_view_module_version": "1.2.0",
      "_view_name": "LayoutView",
      "align_content": null,
      "align_items": null,
      "align_self": null,
      "border": null,
      "bottom": null,
      "display": null,
      "flex": null,
      "flex_flow": null,
      "grid_area": null,
      "grid_auto_columns": null,
      "grid_auto_flow": null,
      "grid_auto_rows": null,
      "grid_column": null,
      "grid_gap": null,
      "grid_row": null,
      "grid_template_areas": null,
      "grid_template_columns": null,
      "grid_template_rows": null,
      "height": null,
      "justify_content": null,
      "justify_items": null,
      "left": null,
      "margin": null,
      "max_height": null,
      "max_width": null,
      "min_height": null,
      "min_width": null,
      "object_fit": null,
      "object_position": null,
      "order": null,
      "overflow": null,
      "overflow_x": null,
      "overflow_y": null,
      "padding": null,
      "right": null,
      "top": null,
      "visibility": null,
      "width": null
     }
    },
    "235d208d83b44d82b5b4b1a8a09b3c21": {
     "model_module": "@jupyter-widgets/controls",
     "model_name": "ProgressStyleModel",
     "model_module_version": "1.5.0",
     "state": {
      "_model_module": "@jupyter-widgets/controls",
      "_model_module_version": "1.5.0",
      "_model_name": "ProgressStyleModel",
      "_view_count": null,
      "_view_module": "@jupyter-widgets/base",
      "_view_module_version": "1.2.0",
      "_view_name": "StyleView",
      "bar_color": null,
      "description_width": ""
     }
    },
    "807abfa157cf42bba9d45adfe3b3efe2": {
     "model_module": "@jupyter-widgets/base",
     "model_name": "LayoutModel",
     "model_module_version": "1.2.0",
     "state": {
      "_model_module": "@jupyter-widgets/base",
      "_model_module_version": "1.2.0",
      "_model_name": "LayoutModel",
      "_view_count": null,
      "_view_module": "@jupyter-widgets/base",
      "_view_module_version": "1.2.0",
      "_view_name": "LayoutView",
      "align_content": null,
      "align_items": null,
      "align_self": null,
      "border": null,
      "bottom": null,
      "display": null,
      "flex": null,
      "flex_flow": null,
      "grid_area": null,
      "grid_auto_columns": null,
      "grid_auto_flow": null,
      "grid_auto_rows": null,
      "grid_column": null,
      "grid_gap": null,
      "grid_row": null,
      "grid_template_areas": null,
      "grid_template_columns": null,
      "grid_template_rows": null,
      "height": null,
      "justify_content": null,
      "justify_items": null,
      "left": null,
      "margin": null,
      "max_height": null,
      "max_width": null,
      "min_height": null,
      "min_width": null,
      "object_fit": null,
      "object_position": null,
      "order": null,
      "overflow": null,
      "overflow_x": null,
      "overflow_y": null,
      "padding": null,
      "right": null,
      "top": null,
      "visibility": null,
      "width": null
     }
    },
    "d979cb6451c047cbab208f878ada9e7a": {
     "model_module": "@jupyter-widgets/controls",
     "model_name": "DescriptionStyleModel",
     "model_module_version": "1.5.0",
     "state": {
      "_model_module": "@jupyter-widgets/controls",
      "_model_module_version": "1.5.0",
      "_model_name": "DescriptionStyleModel",
      "_view_count": null,
      "_view_module": "@jupyter-widgets/base",
      "_view_module_version": "1.2.0",
      "_view_name": "StyleView",
      "description_width": ""
     }
    },
    "a9bc0d862df24aad8cabd436e7475dfe": {
     "model_module": "@jupyter-widgets/controls",
     "model_name": "HBoxModel",
     "model_module_version": "1.5.0",
     "state": {
      "_dom_classes": [],
      "_model_module": "@jupyter-widgets/controls",
      "_model_module_version": "1.5.0",
      "_model_name": "HBoxModel",
      "_view_count": null,
      "_view_module": "@jupyter-widgets/controls",
      "_view_module_version": "1.5.0",
      "_view_name": "HBoxView",
      "box_style": "",
      "children": [
       "IPY_MODEL_09a09bd2a7a343d7883d49eb57eafc49",
       "IPY_MODEL_2a019dcba7214728846fcfe032e8f5fc",
       "IPY_MODEL_9a19fdebc2874df4801238624dda9161"
      ],
      "layout": "IPY_MODEL_bab13bd5d5bf4da9b9cf37932f323f67"
     }
    },
    "09a09bd2a7a343d7883d49eb57eafc49": {
     "model_module": "@jupyter-widgets/controls",
     "model_name": "HTMLModel",
     "model_module_version": "1.5.0",
     "state": {
      "_dom_classes": [],
      "_model_module": "@jupyter-widgets/controls",
      "_model_module_version": "1.5.0",
      "_model_name": "HTMLModel",
      "_view_count": null,
      "_view_module": "@jupyter-widgets/controls",
      "_view_module_version": "1.5.0",
      "_view_name": "HTMLView",
      "description": "",
      "description_tooltip": null,
      "layout": "IPY_MODEL_ef38e025804948eda2adb672185aedf1",
      "placeholder": "​",
      "style": "IPY_MODEL_8aa24a53c88f4936aa9eab7e27833680",
      "value": "Map: 100%"
     }
    },
    "2a019dcba7214728846fcfe032e8f5fc": {
     "model_module": "@jupyter-widgets/controls",
     "model_name": "FloatProgressModel",
     "model_module_version": "1.5.0",
     "state": {
      "_dom_classes": [],
      "_model_module": "@jupyter-widgets/controls",
      "_model_module_version": "1.5.0",
      "_model_name": "FloatProgressModel",
      "_view_count": null,
      "_view_module": "@jupyter-widgets/controls",
      "_view_module_version": "1.5.0",
      "_view_name": "ProgressView",
      "bar_style": "success",
      "description": "",
      "description_tooltip": null,
      "layout": "IPY_MODEL_dd2761f51d0d47b9baf808fab015d177",
      "max": 600,
      "min": 0,
      "orientation": "horizontal",
      "style": "IPY_MODEL_fa23fef053bb4bdc91d5f251073b5f4c",
      "value": 600
     }
    },
    "9a19fdebc2874df4801238624dda9161": {
     "model_module": "@jupyter-widgets/controls",
     "model_name": "HTMLModel",
     "model_module_version": "1.5.0",
     "state": {
      "_dom_classes": [],
      "_model_module": "@jupyter-widgets/controls",
      "_model_module_version": "1.5.0",
      "_model_name": "HTMLModel",
      "_view_count": null,
      "_view_module": "@jupyter-widgets/controls",
      "_view_module_version": "1.5.0",
      "_view_name": "HTMLView",
      "description": "",
      "description_tooltip": null,
      "layout": "IPY_MODEL_d483345a7bc84ed28a5f80947187f051",
      "placeholder": "​",
      "style": "IPY_MODEL_e45f8110bc80477987eb2c8002fcbbe5",
      "value": " 600/600 [00:00&lt;00:00, 1301.26 examples/s]"
     }
    },
    "bab13bd5d5bf4da9b9cf37932f323f67": {
     "model_module": "@jupyter-widgets/base",
     "model_name": "LayoutModel",
     "model_module_version": "1.2.0",
     "state": {
      "_model_module": "@jupyter-widgets/base",
      "_model_module_version": "1.2.0",
      "_model_name": "LayoutModel",
      "_view_count": null,
      "_view_module": "@jupyter-widgets/base",
      "_view_module_version": "1.2.0",
      "_view_name": "LayoutView",
      "align_content": null,
      "align_items": null,
      "align_self": null,
      "border": null,
      "bottom": null,
      "display": null,
      "flex": null,
      "flex_flow": null,
      "grid_area": null,
      "grid_auto_columns": null,
      "grid_auto_flow": null,
      "grid_auto_rows": null,
      "grid_column": null,
      "grid_gap": null,
      "grid_row": null,
      "grid_template_areas": null,
      "grid_template_columns": null,
      "grid_template_rows": null,
      "height": null,
      "justify_content": null,
      "justify_items": null,
      "left": null,
      "margin": null,
      "max_height": null,
      "max_width": null,
      "min_height": null,
      "min_width": null,
      "object_fit": null,
      "object_position": null,
      "order": null,
      "overflow": null,
      "overflow_x": null,
      "overflow_y": null,
      "padding": null,
      "right": null,
      "top": null,
      "visibility": null,
      "width": null
     }
    },
    "ef38e025804948eda2adb672185aedf1": {
     "model_module": "@jupyter-widgets/base",
     "model_name": "LayoutModel",
     "model_module_version": "1.2.0",
     "state": {
      "_model_module": "@jupyter-widgets/base",
      "_model_module_version": "1.2.0",
      "_model_name": "LayoutModel",
      "_view_count": null,
      "_view_module": "@jupyter-widgets/base",
      "_view_module_version": "1.2.0",
      "_view_name": "LayoutView",
      "align_content": null,
      "align_items": null,
      "align_self": null,
      "border": null,
      "bottom": null,
      "display": null,
      "flex": null,
      "flex_flow": null,
      "grid_area": null,
      "grid_auto_columns": null,
      "grid_auto_flow": null,
      "grid_auto_rows": null,
      "grid_column": null,
      "grid_gap": null,
      "grid_row": null,
      "grid_template_areas": null,
      "grid_template_columns": null,
      "grid_template_rows": null,
      "height": null,
      "justify_content": null,
      "justify_items": null,
      "left": null,
      "margin": null,
      "max_height": null,
      "max_width": null,
      "min_height": null,
      "min_width": null,
      "object_fit": null,
      "object_position": null,
      "order": null,
      "overflow": null,
      "overflow_x": null,
      "overflow_y": null,
      "padding": null,
      "right": null,
      "top": null,
      "visibility": null,
      "width": null
     }
    },
    "8aa24a53c88f4936aa9eab7e27833680": {
     "model_module": "@jupyter-widgets/controls",
     "model_name": "DescriptionStyleModel",
     "model_module_version": "1.5.0",
     "state": {
      "_model_module": "@jupyter-widgets/controls",
      "_model_module_version": "1.5.0",
      "_model_name": "DescriptionStyleModel",
      "_view_count": null,
      "_view_module": "@jupyter-widgets/base",
      "_view_module_version": "1.2.0",
      "_view_name": "StyleView",
      "description_width": ""
     }
    },
    "dd2761f51d0d47b9baf808fab015d177": {
     "model_module": "@jupyter-widgets/base",
     "model_name": "LayoutModel",
     "model_module_version": "1.2.0",
     "state": {
      "_model_module": "@jupyter-widgets/base",
      "_model_module_version": "1.2.0",
      "_model_name": "LayoutModel",
      "_view_count": null,
      "_view_module": "@jupyter-widgets/base",
      "_view_module_version": "1.2.0",
      "_view_name": "LayoutView",
      "align_content": null,
      "align_items": null,
      "align_self": null,
      "border": null,
      "bottom": null,
      "display": null,
      "flex": null,
      "flex_flow": null,
      "grid_area": null,
      "grid_auto_columns": null,
      "grid_auto_flow": null,
      "grid_auto_rows": null,
      "grid_column": null,
      "grid_gap": null,
      "grid_row": null,
      "grid_template_areas": null,
      "grid_template_columns": null,
      "grid_template_rows": null,
      "height": null,
      "justify_content": null,
      "justify_items": null,
      "left": null,
      "margin": null,
      "max_height": null,
      "max_width": null,
      "min_height": null,
      "min_width": null,
      "object_fit": null,
      "object_position": null,
      "order": null,
      "overflow": null,
      "overflow_x": null,
      "overflow_y": null,
      "padding": null,
      "right": null,
      "top": null,
      "visibility": null,
      "width": null
     }
    },
    "fa23fef053bb4bdc91d5f251073b5f4c": {
     "model_module": "@jupyter-widgets/controls",
     "model_name": "ProgressStyleModel",
     "model_module_version": "1.5.0",
     "state": {
      "_model_module": "@jupyter-widgets/controls",
      "_model_module_version": "1.5.0",
      "_model_name": "ProgressStyleModel",
      "_view_count": null,
      "_view_module": "@jupyter-widgets/base",
      "_view_module_version": "1.2.0",
      "_view_name": "StyleView",
      "bar_color": null,
      "description_width": ""
     }
    },
    "d483345a7bc84ed28a5f80947187f051": {
     "model_module": "@jupyter-widgets/base",
     "model_name": "LayoutModel",
     "model_module_version": "1.2.0",
     "state": {
      "_model_module": "@jupyter-widgets/base",
      "_model_module_version": "1.2.0",
      "_model_name": "LayoutModel",
      "_view_count": null,
      "_view_module": "@jupyter-widgets/base",
      "_view_module_version": "1.2.0",
      "_view_name": "LayoutView",
      "align_content": null,
      "align_items": null,
      "align_self": null,
      "border": null,
      "bottom": null,
      "display": null,
      "flex": null,
      "flex_flow": null,
      "grid_area": null,
      "grid_auto_columns": null,
      "grid_auto_flow": null,
      "grid_auto_rows": null,
      "grid_column": null,
      "grid_gap": null,
      "grid_row": null,
      "grid_template_areas": null,
      "grid_template_columns": null,
      "grid_template_rows": null,
      "height": null,
      "justify_content": null,
      "justify_items": null,
      "left": null,
      "margin": null,
      "max_height": null,
      "max_width": null,
      "min_height": null,
      "min_width": null,
      "object_fit": null,
      "object_position": null,
      "order": null,
      "overflow": null,
      "overflow_x": null,
      "overflow_y": null,
      "padding": null,
      "right": null,
      "top": null,
      "visibility": null,
      "width": null
     }
    },
    "e45f8110bc80477987eb2c8002fcbbe5": {
     "model_module": "@jupyter-widgets/controls",
     "model_name": "DescriptionStyleModel",
     "model_module_version": "1.5.0",
     "state": {
      "_model_module": "@jupyter-widgets/controls",
      "_model_module_version": "1.5.0",
      "_model_name": "DescriptionStyleModel",
      "_view_count": null,
      "_view_module": "@jupyter-widgets/base",
      "_view_module_version": "1.2.0",
      "_view_name": "StyleView",
      "description_width": ""
     }
    }
   }
  }
 },
 "cells": [
  {
   "cell_type": "markdown",
   "source": [
    "# Fake News Detector\n",
    "Notebook para entrenar un modelo LLM en español para detectar si una noticia es una *fake new*.\n",
    "\n",
    "Se ha usado el siguiente dataset de [Kaggle](https://www.kaggle.com/datasets/javieroterovizoso/spanish-political-fake-news?resource=download&select=D57000_complete.csv)"
   ],
   "metadata": {
    "id": "tRArL0kgnR4I"
   }
  },
  {
   "cell_type": "markdown",
   "source": [
    "## Librerías\n",
    "Instalamos las librerías necesarias"
   ],
   "metadata": {
    "id": "_7GzwseEoYCw"
   }
  },
  {
   "cell_type": "code",
   "execution_count": 8,
   "metadata": {
    "colab": {
     "base_uri": "https://localhost:8080/"
    },
    "id": "9W_SL6hMnMYn",
    "outputId": "750dc65b-23e7-401d-83de-e7dfc76a3c74"
   },
   "outputs": [
    {
     "output_type": "stream",
     "name": "stdout",
     "text": [
      "Requirement already satisfied: torch in /usr/local/lib/python3.10/dist-packages (2.4.0+cu121)\n",
      "Requirement already satisfied: transformers in /usr/local/lib/python3.10/dist-packages (4.42.4)\n",
      "Requirement already satisfied: pandas in /usr/local/lib/python3.10/dist-packages (2.1.4)\n",
      "Requirement already satisfied: matplotlib in /usr/local/lib/python3.10/dist-packages (3.7.1)\n",
      "Requirement already satisfied: datasets in /usr/local/lib/python3.10/dist-packages (2.21.0)\n",
      "Requirement already satisfied: accelerate in /usr/local/lib/python3.10/dist-packages (0.32.1)\n",
      "Requirement already satisfied: numpy in /usr/local/lib/python3.10/dist-packages (1.26.4)\n",
      "Requirement already satisfied: scikit-learn in /usr/local/lib/python3.10/dist-packages (1.3.2)\n",
      "Requirement already satisfied: filelock in /usr/local/lib/python3.10/dist-packages (from torch) (3.15.4)\n",
      "Requirement already satisfied: typing-extensions>=4.8.0 in /usr/local/lib/python3.10/dist-packages (from torch) (4.12.2)\n",
      "Requirement already satisfied: sympy in /usr/local/lib/python3.10/dist-packages (from torch) (1.13.2)\n",
      "Requirement already satisfied: networkx in /usr/local/lib/python3.10/dist-packages (from torch) (3.3)\n",
      "Requirement already satisfied: jinja2 in /usr/local/lib/python3.10/dist-packages (from torch) (3.1.4)\n",
      "Requirement already satisfied: fsspec in /usr/local/lib/python3.10/dist-packages (from torch) (2024.6.1)\n",
      "Requirement already satisfied: huggingface-hub<1.0,>=0.23.2 in /usr/local/lib/python3.10/dist-packages (from transformers) (0.23.5)\n",
      "Requirement already satisfied: packaging>=20.0 in /usr/local/lib/python3.10/dist-packages (from transformers) (24.1)\n",
      "Requirement already satisfied: pyyaml>=5.1 in /usr/local/lib/python3.10/dist-packages (from transformers) (6.0.2)\n",
      "Requirement already satisfied: regex!=2019.12.17 in /usr/local/lib/python3.10/dist-packages (from transformers) (2024.5.15)\n",
      "Requirement already satisfied: requests in /usr/local/lib/python3.10/dist-packages (from transformers) (2.32.3)\n",
      "Requirement already satisfied: safetensors>=0.4.1 in /usr/local/lib/python3.10/dist-packages (from transformers) (0.4.4)\n",
      "Requirement already satisfied: tokenizers<0.20,>=0.19 in /usr/local/lib/python3.10/dist-packages (from transformers) (0.19.1)\n",
      "Requirement already satisfied: tqdm>=4.27 in /usr/local/lib/python3.10/dist-packages (from transformers) (4.66.5)\n",
      "Requirement already satisfied: python-dateutil>=2.8.2 in /usr/local/lib/python3.10/dist-packages (from pandas) (2.8.2)\n",
      "Requirement already satisfied: pytz>=2020.1 in /usr/local/lib/python3.10/dist-packages (from pandas) (2024.1)\n",
      "Requirement already satisfied: tzdata>=2022.1 in /usr/local/lib/python3.10/dist-packages (from pandas) (2024.1)\n",
      "Requirement already satisfied: contourpy>=1.0.1 in /usr/local/lib/python3.10/dist-packages (from matplotlib) (1.2.1)\n",
      "Requirement already satisfied: cycler>=0.10 in /usr/local/lib/python3.10/dist-packages (from matplotlib) (0.12.1)\n",
      "Requirement already satisfied: fonttools>=4.22.0 in /usr/local/lib/python3.10/dist-packages (from matplotlib) (4.53.1)\n",
      "Requirement already satisfied: kiwisolver>=1.0.1 in /usr/local/lib/python3.10/dist-packages (from matplotlib) (1.4.5)\n",
      "Requirement already satisfied: pillow>=6.2.0 in /usr/local/lib/python3.10/dist-packages (from matplotlib) (9.4.0)\n",
      "Requirement already satisfied: pyparsing>=2.3.1 in /usr/local/lib/python3.10/dist-packages (from matplotlib) (3.1.4)\n",
      "Requirement already satisfied: pyarrow>=15.0.0 in /usr/local/lib/python3.10/dist-packages (from datasets) (17.0.0)\n",
      "Requirement already satisfied: dill<0.3.9,>=0.3.0 in /usr/local/lib/python3.10/dist-packages (from datasets) (0.3.8)\n",
      "Requirement already satisfied: xxhash in /usr/local/lib/python3.10/dist-packages (from datasets) (3.5.0)\n",
      "Requirement already satisfied: multiprocess in /usr/local/lib/python3.10/dist-packages (from datasets) (0.70.16)\n",
      "Requirement already satisfied: aiohttp in /usr/local/lib/python3.10/dist-packages (from datasets) (3.10.5)\n",
      "Requirement already satisfied: psutil in /usr/local/lib/python3.10/dist-packages (from accelerate) (5.9.5)\n",
      "Requirement already satisfied: scipy>=1.5.0 in /usr/local/lib/python3.10/dist-packages (from scikit-learn) (1.13.1)\n",
      "Requirement already satisfied: joblib>=1.1.1 in /usr/local/lib/python3.10/dist-packages (from scikit-learn) (1.4.2)\n",
      "Requirement already satisfied: threadpoolctl>=2.0.0 in /usr/local/lib/python3.10/dist-packages (from scikit-learn) (3.5.0)\n",
      "Requirement already satisfied: aiohappyeyeballs>=2.3.0 in /usr/local/lib/python3.10/dist-packages (from aiohttp->datasets) (2.4.0)\n",
      "Requirement already satisfied: aiosignal>=1.1.2 in /usr/local/lib/python3.10/dist-packages (from aiohttp->datasets) (1.3.1)\n",
      "Requirement already satisfied: attrs>=17.3.0 in /usr/local/lib/python3.10/dist-packages (from aiohttp->datasets) (24.2.0)\n",
      "Requirement already satisfied: frozenlist>=1.1.1 in /usr/local/lib/python3.10/dist-packages (from aiohttp->datasets) (1.4.1)\n",
      "Requirement already satisfied: multidict<7.0,>=4.5 in /usr/local/lib/python3.10/dist-packages (from aiohttp->datasets) (6.0.5)\n",
      "Requirement already satisfied: yarl<2.0,>=1.0 in /usr/local/lib/python3.10/dist-packages (from aiohttp->datasets) (1.9.4)\n",
      "Requirement already satisfied: async-timeout<5.0,>=4.0 in /usr/local/lib/python3.10/dist-packages (from aiohttp->datasets) (4.0.3)\n",
      "Requirement already satisfied: six>=1.5 in /usr/local/lib/python3.10/dist-packages (from python-dateutil>=2.8.2->pandas) (1.16.0)\n",
      "Requirement already satisfied: charset-normalizer<4,>=2 in /usr/local/lib/python3.10/dist-packages (from requests->transformers) (3.3.2)\n",
      "Requirement already satisfied: idna<4,>=2.5 in /usr/local/lib/python3.10/dist-packages (from requests->transformers) (3.8)\n",
      "Requirement already satisfied: urllib3<3,>=1.21.1 in /usr/local/lib/python3.10/dist-packages (from requests->transformers) (2.0.7)\n",
      "Requirement already satisfied: certifi>=2017.4.17 in /usr/local/lib/python3.10/dist-packages (from requests->transformers) (2024.7.4)\n",
      "Requirement already satisfied: MarkupSafe>=2.0 in /usr/local/lib/python3.10/dist-packages (from jinja2->torch) (2.1.5)\n",
      "Requirement already satisfied: mpmath<1.4,>=1.1.0 in /usr/local/lib/python3.10/dist-packages (from sympy->torch) (1.3.0)\n"
     ]
    }
   ],
   "source": [
    "%pip install torch transformers pandas matplotlib datasets accelerate numpy scikit-learn"
   ]
  },
  {
   "cell_type": "markdown",
   "source": [
    "Importamos las librerías"
   ],
   "metadata": {
    "id": "oO_j9HzDqG-v"
   }
  },
  {
   "cell_type": "code",
   "source": [
    "from transformers import (TrainingArguments, Trainer, AutoTokenizer,\n",
    "                          AutoModelForSequenceClassification,\n",
    "                          DataCollatorWithPadding)\n",
    "\n",
    "from sklearn.model_selection import train_test_split\n",
    "from datasets import Dataset\n",
    "from sklearn.metrics import (\n",
    "    precision_score,\n",
    "    accuracy_score,\n",
    "    recall_score,\n",
    "    f1_score)\n",
    "\n",
    "import pandas as pd\n",
    "import numpy as np\n",
    "import torch\n",
    "import json\n",
    "import re"
   ],
   "metadata": {
    "id": "_KrPl8NrqLJ7",
    "ExecuteTime": {
     "end_time": "2024-09-02T15:48:52.958832Z",
     "start_time": "2024-09-02T15:48:44.569877Z"
    }
   },
   "execution_count": 2,
   "outputs": []
  },
  {
   "cell_type": "markdown",
   "source": [
    "# Funciones relacionados con los datasets\n",
    "Se han definido tres funciones para trabajar con el dataset:\n",
    "- *processing_text* -> separar signos de puntuación de las palabras.\n",
    "- *stats_dataset* -> función que imprime diferentes estadísticas del dataset\n",
    "- *split_dataset_train_dev_test* -> función para generar tres subconjuntos a partir del dataset. Se ha seguido por una división 80-10-10"
   ],
   "metadata": {
    "id": "mRwWYygbpFIS"
   }
  },
  {
   "cell_type": "code",
   "source": [
    "def processing_text(text: str):\n",
    "    punctuation = r'[,;.:¡!¿?@#$%&[\\](){}<>~=+\\-*/|\\\\_^`\"\\'“”º]'\n",
    "    text = re.sub(punctuation, ' ', text)\n",
    "    text = re.sub(' +', ' ', text)\n",
    "    return text"
   ],
   "metadata": {
    "id": "-BG1I1GJpQpN",
    "ExecuteTime": {
     "end_time": "2024-09-02T15:49:04.594367Z",
     "start_time": "2024-09-02T15:49:04.589818Z"
    }
   },
   "execution_count": 3,
   "outputs": []
  },
  {
   "cell_type": "code",
   "source": [
    "def stats_dataset(df: pd.DataFrame):\n",
    "    df['TOTAL_WORDS_TITULO'] = df['Titulo'].str.count(' ') + 1\n",
    "    df['TOTAL_WORDS_DESCP'] = df['Descripcion'].str.count(' ') + 1\n",
    "    df['TOTAL_WORDS_TITULO_DESCP'] = df['title_descp'].str.count(' ') + 1\n",
    "\n",
    "    print(f\"COUNT FAKE NEWS: {len(df[df['Label'] == 1])}\")\n",
    "    print(f\"COUNT REAL NEWS: {len(df[df['Label'] == 0])}\")\n",
    "    print(f\"MEAN_WORDS_TITULO: {df.loc[:, 'TOTAL_WORDS_TITULO'].mean()}\")\n",
    "    print(f\"MEAN_WORDS_DESCP: {df.loc[:, 'TOTAL_WORDS_DESCP'].mean()}\")\n",
    "    print(f\"MEAN_WORDS_TITULO_DESCP: {df.loc[:, 'TOTAL_WORDS_TITULO_DESCP'].mean()}\")"
   ],
   "metadata": {
    "id": "HGTWScDwp8mL",
    "ExecuteTime": {
     "end_time": "2024-09-02T15:49:06.410033Z",
     "start_time": "2024-09-02T15:49:06.404837Z"
    }
   },
   "execution_count": 4,
   "outputs": []
  },
  {
   "cell_type": "code",
   "source": [
    "def split_dataset_train_dev_test(df: pd.DataFrame):\n",
    "    X_train, X_test, y_train, y_test = train_test_split(df, df['Label'],\n",
    "                                                        test_size=0.2, random_state=42, stratify=df['Label'])\n",
    "\n",
    "    X_train, X_val, y_train, y_val = train_test_split(X_train, y_train,\n",
    "                                                      test_size=0.25, random_state=42, stratify=y_train)\n",
    "\n",
    "    return X_train, X_val, X_val"
   ],
   "metadata": {
    "id": "h7gYN6yEqABL",
    "ExecuteTime": {
     "end_time": "2024-09-02T15:49:08.482488Z",
     "start_time": "2024-09-02T15:49:08.474818Z"
    }
   },
   "execution_count": 5,
   "outputs": []
  },
  {
   "cell_type": "code",
   "source": [
    "    path_dataset = './dataset/D57000_complete.csv' # descargar y añadir el dataset en el path\n",
    "    df = pd.read_csv(path_dataset, sep=';')\n",
    "    df = df.sample(n=3000) # get 3000 texts bc Google colab is too slow\n",
    "    df['title_descp'] = df['Titulo'] + ' ' + df['Descripcion']\n",
    "    df['title_descp'] = df['title_descp'].apply(lambda x: processing_text(x))\n",
    "    stats_dataset(df)\n",
    "\n",
    "    train_df, val_df, test_df = split_dataset_train_dev_test(df)"
   ],
   "metadata": {
    "colab": {
     "base_uri": "https://localhost:8080/"
    },
    "id": "AH8nD2vOqi29",
    "outputId": "9307c993-8149-4d22-f7ab-a49cd8825e1f",
    "ExecuteTime": {
     "end_time": "2024-09-02T15:49:26.359871Z",
     "start_time": "2024-09-02T15:49:26.109704Z"
    }
   },
   "execution_count": 7,
   "outputs": [
    {
     "name": "stdout",
     "output_type": "stream",
     "text": [
      "COUNT FAKE NEWS: 1688\n",
      "COUNT REAL NEWS: 1312\n",
      "MEAN_WORDS_TITULO: 16.105666666666668\n",
      "MEAN_WORDS_DESCP: 37.87566666666667\n",
      "MEAN_WORDS_TITULO_DESCP: 55.133\n"
     ]
    }
   ]
  },
  {
   "cell_type": "markdown",
   "source": [
    "# Funciones relacionadas con el entrenamiento\n",
    "En este caso contemplamos dos funciones:\n",
    "- tokenize: se encarga de tokenizar con el tokenizador del modelo cada uno de los textos\n",
    "- train: función para entrenar el modelo\n",
    "- evaluate: función para evaluar el modelo durante la fase de entrenamiento y testeo\n"
   ],
   "metadata": {
    "id": "_1z09NxlrwXj"
   }
  },
  {
   "cell_type": "code",
   "source": [
    "def tokenize(dt: Dataset, tokenizer: AutoTokenizer):\n",
    "    params = {'add_special_tokens': True,\n",
    "              'truncation': True,\n",
    "              'padding': 'max_length',\n",
    "              'return_token_type_ids': True}\n",
    "\n",
    "    return tokenizer(dt['title_descp'], **params)"
   ],
   "metadata": {
    "id": "i0_jX77EsKFv",
    "ExecuteTime": {
     "end_time": "2024-09-02T15:49:30.936973Z",
     "start_time": "2024-09-02T15:49:30.932175Z"
    }
   },
   "execution_count": 8,
   "outputs": []
  },
  {
   "cell_type": "code",
   "source": [
    "def train(train_df: pd.DataFrame, val_df: pd.DataFrame, model: AutoModelForSequenceClassification,\n",
    "          tokenizer: AutoTokenizer, lr=3e-5, epochs=10,\n",
    "          batch_size=16, save_model='../modelos/fine-tuning',\n",
    "          name_model='fake_news_detector'):\n",
    "\n",
    "    train_dt = Dataset.from_pandas(train_df).rename_column(\"Label\", \"labels\")\n",
    "    val_dt = Dataset.from_pandas(val_df).rename_column(\"Label\", \"labels\")\n",
    "\n",
    "    train_dt = train_dt.map(lambda dt: tokenize(dt, tokenizer), batched=True)\n",
    "    val_dt = val_dt.map(lambda dt: tokenize(dt, tokenizer), batched=True)\n",
    "\n",
    "    data_collator = DataCollatorWithPadding(tokenizer=tokenizer, padding=\"max_length\")\n",
    "\n",
    "    training_args = TrainingArguments(\n",
    "        output_dir=save_model,  # \"HF repository or path model\"\n",
    "        learning_rate=lr,  # 1e-3\n",
    "        per_device_train_batch_size=batch_size,\n",
    "        per_device_eval_batch_size=batch_size,\n",
    "        num_train_epochs=epochs,\n",
    "        weight_decay=0.01,\n",
    "        evaluation_strategy=\"steps\",\n",
    "        save_strategy=\"no\",\n",
    "        load_best_model_at_end=False,\n",
    "        optim=\"adamw_torch\",\n",
    "        seed=42,\n",
    "        logging_dir=f\"./{save_model}/logs/{name_model}\",\n",
    "        logging_strategy=\"steps\",\n",
    "        eval_steps=100,\n",
    "        report_to=[\"tensorboard\"],\n",
    "        use_cpu=False,\n",
    "    )\n",
    "\n",
    "    trainer = Trainer(\n",
    "        model=model,\n",
    "        args=training_args,\n",
    "        tokenizer=tokenizer,\n",
    "        train_dataset=train_dt,\n",
    "        eval_dataset=val_dt,\n",
    "        data_collator=data_collator,\n",
    "        compute_metrics=evaluate\n",
    "    )\n",
    "\n",
    "    trainer.args._n_gpu = 1  # set one gpu\n",
    "    torch.cuda.empty_cache()\n",
    "\n",
    "    print(\"Starting the training process...\")\n",
    "    train_results = trainer.train()\n",
    "    print(\"training process finished...\")\n",
    "\n",
    "    with open(save_model + f\"evaluation_metrics.json\", 'w') as file:\n",
    "        json.dump(trainer.state.log_history, file, indent=4)\n",
    "\n",
    "    # save training metrics\n",
    "    metrics = train_results.metrics\n",
    "    trainer.log_metrics(\"all\", metrics)\n",
    "    trainer.save_metrics(\"all\", metrics)\n",
    "\n",
    "\n",
    "    print(\"Saving model...\")\n",
    "    trainer.save_model(save_model)\n",
    "    trainer.model.roberta.config.to_json_file(save_model + '/config.json')"
   ],
   "metadata": {
    "id": "wo0f7ai1sRtL",
    "ExecuteTime": {
     "end_time": "2024-08-29T07:42:47.693077Z",
     "start_time": "2024-08-29T07:42:47.688337Z"
    }
   },
   "execution_count": 18,
   "outputs": []
  },
  {
   "cell_type": "code",
   "source": [
    "def evaluate(preds):\n",
    "    logits, tags = preds\n",
    "    preds = [y_pred.argmax().item() for y_pred in logits]  # longSeq\n",
    "\n",
    "    tags = np.array(tags)\n",
    "    preds = np.array(preds)\n",
    "\n",
    "    # matrix\n",
    "    tp = ((tags == 1) & (preds == 1)).sum()\n",
    "    tn = ((tags == 0) & (preds == 0)).sum()\n",
    "    fp = ((tags == 0) & (preds == 1)).sum()\n",
    "    fn = ((tags == 1) & (preds == 0)).sum()\n",
    "\n",
    "    matrix = {'tp': tp, 'fn': fn, 'fp': fp, 'tn': tn}\n",
    "    metrics = {'accuracy': accuracy_score(tags, preds),\n",
    "               'precision': precision_score(tags, preds),\n",
    "               'recall': recall_score(tags, preds),\n",
    "               'f1': f1_score(tags, preds)\n",
    "              }\n",
    "\n",
    "    result = {'matrix': matrix, 'metrics': metrics}\n",
    "\n",
    "    print(result)\n",
    "\n",
    "    return result"
   ],
   "metadata": {
    "id": "eLHtwo9psz6U",
    "ExecuteTime": {
     "end_time": "2024-09-02T15:49:38.715520Z",
     "start_time": "2024-09-02T15:49:38.713016Z"
    }
   },
   "execution_count": 9,
   "outputs": []
  },
  {
   "cell_type": "markdown",
   "source": [
    "# Entrenamiento\n",
    "Se define el modelo y se inicia el proceso de entrenamiento"
   ],
   "metadata": {
    "id": "AmXXBdeesVgY"
   }
  },
  {
   "cell_type": "code",
   "source": [
    "  model_repo = \"PlanTL-GOB-ES/roberta-base-bne\"\n",
    "  tokenizer = AutoTokenizer.from_pretrained(model_repo)\n",
    "  model = AutoModelForSequenceClassification.from_pretrained(model_repo)\n",
    "  train(train_df, val_df, model, tokenizer, epochs=3, batch_size=16, save_model='./trained')"
   ],
   "metadata": {
    "colab": {
     "base_uri": "https://localhost:8080/",
     "height": 711,
     "referenced_widgets": [
      "c0c571dec528477dab7b80945d7af5d4",
      "562223fa44024bc0984b7b44bd21cd99",
      "843ae5c1119a46d4a89b680fe1a6b52e",
      "58cd8c1fb2aa4dd1bb7c397e413ee431",
      "cbf49d6893e34465b2081a4c5e7d251d",
      "011d61001b2b45a786445fbe9c1dbd19",
      "73707fc9150b428e949147d7ffb1f100",
      "3a50a1ff2d0a46f487b5c3087bc58966",
      "235d208d83b44d82b5b4b1a8a09b3c21",
      "807abfa157cf42bba9d45adfe3b3efe2",
      "d979cb6451c047cbab208f878ada9e7a",
      "a9bc0d862df24aad8cabd436e7475dfe",
      "09a09bd2a7a343d7883d49eb57eafc49",
      "2a019dcba7214728846fcfe032e8f5fc",
      "9a19fdebc2874df4801238624dda9161",
      "bab13bd5d5bf4da9b9cf37932f323f67",
      "ef38e025804948eda2adb672185aedf1",
      "8aa24a53c88f4936aa9eab7e27833680",
      "dd2761f51d0d47b9baf808fab015d177",
      "fa23fef053bb4bdc91d5f251073b5f4c",
      "d483345a7bc84ed28a5f80947187f051",
      "e45f8110bc80477987eb2c8002fcbbe5"
     ]
    },
    "id": "OlUZNnDash5K",
    "outputId": "7e82ea8b-d1a9-4b64-cc9d-c917c650861e",
    "ExecuteTime": {
     "end_time": "2024-08-29T07:44:15.214721Z",
     "start_time": "2024-08-29T07:42:52.437186Z"
    }
   },
   "execution_count": 19,
   "outputs": [
    {
     "output_type": "stream",
     "name": "stderr",
     "text": [
      "Some weights of RobertaForSequenceClassification were not initialized from the model checkpoint at PlanTL-GOB-ES/roberta-base-bne and are newly initialized: ['classifier.dense.bias', 'classifier.dense.weight', 'classifier.out_proj.bias', 'classifier.out_proj.weight']\n",
      "You should probably TRAIN this model on a down-stream task to be able to use it for predictions and inference.\n"
     ]
    },
    {
     "output_type": "display_data",
     "data": {
      "text/plain": [
       "Map:   0%|          | 0/1800 [00:00<?, ? examples/s]"
      ],
      "application/vnd.jupyter.widget-view+json": {
       "version_major": 2,
       "version_minor": 0,
       "model_id": "c0c571dec528477dab7b80945d7af5d4"
      }
     },
     "metadata": {}
    },
    {
     "output_type": "display_data",
     "data": {
      "text/plain": [
       "Map:   0%|          | 0/600 [00:00<?, ? examples/s]"
      ],
      "application/vnd.jupyter.widget-view+json": {
       "version_major": 2,
       "version_minor": 0,
       "model_id": "a9bc0d862df24aad8cabd436e7475dfe"
      }
     },
     "metadata": {}
    },
    {
     "output_type": "stream",
     "name": "stderr",
     "text": [
      "/usr/local/lib/python3.10/dist-packages/transformers/training_args.py:1494: FutureWarning: `evaluation_strategy` is deprecated and will be removed in version 4.46 of 🤗 Transformers. Use `eval_strategy` instead\n",
      "  warnings.warn(\n"
     ]
    },
    {
     "output_type": "stream",
     "name": "stdout",
     "text": [
      "Starting the training process...\n"
     ]
    },
    {
     "output_type": "display_data",
     "data": {
      "text/plain": [
       "<IPython.core.display.HTML object>"
      ],
      "text/html": [
       "\n",
       "    <div>\n",
       "      \n",
       "      <progress value='339' max='339' style='width:300px; height:20px; vertical-align: middle;'></progress>\n",
       "      [339/339 08:26, Epoch 3/3]\n",
       "    </div>\n",
       "    <table border=\"1\" class=\"dataframe\">\n",
       "  <thead>\n",
       " <tr style=\"text-align: left;\">\n",
       "      <th>Step</th>\n",
       "      <th>Training Loss</th>\n",
       "      <th>Validation Loss</th>\n",
       "      <th>Matrix</th>\n",
       "      <th>Metrics</th>\n",
       "    </tr>\n",
       "  </thead>\n",
       "  <tbody>\n",
       "    <tr>\n",
       "      <td>100</td>\n",
       "      <td>No log</td>\n",
       "      <td>0.172847</td>\n",
       "      <td>{'tp': 320, 'fn': 24, 'fp': 14, 'tn': 242}</td>\n",
       "      <td>{'accuracy': 0.9366666666666666, 'precision': 0.9580838323353293, 'recall': 0.9302325581395349, 'f1': 0.943952802359882}</td>\n",
       "    </tr>\n",
       "    <tr>\n",
       "      <td>200</td>\n",
       "      <td>No log</td>\n",
       "      <td>0.137984</td>\n",
       "      <td>{'tp': 328, 'fn': 16, 'fp': 12, 'tn': 244}</td>\n",
       "      <td>{'accuracy': 0.9533333333333334, 'precision': 0.9647058823529412, 'recall': 0.9534883720930233, 'f1': 0.9590643274853802}</td>\n",
       "    </tr>\n",
       "    <tr>\n",
       "      <td>300</td>\n",
       "      <td>No log</td>\n",
       "      <td>0.153472</td>\n",
       "      <td>{'tp': 328, 'fn': 16, 'fp': 15, 'tn': 241}</td>\n",
       "      <td>{'accuracy': 0.9483333333333334, 'precision': 0.956268221574344, 'recall': 0.9534883720930233, 'f1': 0.9548762736535662}</td>\n",
       "    </tr>\n",
       "  </tbody>\n",
       "</table><p>"
      ]
     },
     "metadata": {}
    },
    {
     "output_type": "stream",
     "name": "stderr",
     "text": [
      "Trainer is attempting to log a value of \"{'tp': 320, 'fn': 24, 'fp': 14, 'tn': 242}\" of type <class 'dict'> for key \"eval/matrix\" as a scalar. This invocation of Tensorboard's writer.add_scalar() is incorrect so we dropped this attribute.\n",
      "Trainer is attempting to log a value of \"{'accuracy': 0.9366666666666666, 'precision': 0.9580838323353293, 'recall': 0.9302325581395349, 'f1': 0.943952802359882}\" of type <class 'dict'> for key \"eval/metrics\" as a scalar. This invocation of Tensorboard's writer.add_scalar() is incorrect so we dropped this attribute.\n"
     ]
    },
    {
     "output_type": "stream",
     "name": "stdout",
     "text": [
      "{'matrix': {'tp': 320, 'fn': 24, 'fp': 14, 'tn': 242}, 'metrics': {'accuracy': 0.9366666666666666, 'precision': 0.9580838323353293, 'recall': 0.9302325581395349, 'f1': 0.943952802359882}}\n"
     ]
    },
    {
     "output_type": "stream",
     "name": "stderr",
     "text": [
      "Trainer is attempting to log a value of \"{'tp': 328, 'fn': 16, 'fp': 12, 'tn': 244}\" of type <class 'dict'> for key \"eval/matrix\" as a scalar. This invocation of Tensorboard's writer.add_scalar() is incorrect so we dropped this attribute.\n",
      "Trainer is attempting to log a value of \"{'accuracy': 0.9533333333333334, 'precision': 0.9647058823529412, 'recall': 0.9534883720930233, 'f1': 0.9590643274853802}\" of type <class 'dict'> for key \"eval/metrics\" as a scalar. This invocation of Tensorboard's writer.add_scalar() is incorrect so we dropped this attribute.\n"
     ]
    },
    {
     "output_type": "stream",
     "name": "stdout",
     "text": [
      "{'matrix': {'tp': 328, 'fn': 16, 'fp': 12, 'tn': 244}, 'metrics': {'accuracy': 0.9533333333333334, 'precision': 0.9647058823529412, 'recall': 0.9534883720930233, 'f1': 0.9590643274853802}}\n"
     ]
    },
    {
     "output_type": "stream",
     "name": "stderr",
     "text": [
      "Trainer is attempting to log a value of \"{'tp': 328, 'fn': 16, 'fp': 15, 'tn': 241}\" of type <class 'dict'> for key \"eval/matrix\" as a scalar. This invocation of Tensorboard's writer.add_scalar() is incorrect so we dropped this attribute.\n",
      "Trainer is attempting to log a value of \"{'accuracy': 0.9483333333333334, 'precision': 0.956268221574344, 'recall': 0.9534883720930233, 'f1': 0.9548762736535662}\" of type <class 'dict'> for key \"eval/metrics\" as a scalar. This invocation of Tensorboard's writer.add_scalar() is incorrect so we dropped this attribute.\n"
     ]
    },
    {
     "output_type": "stream",
     "name": "stdout",
     "text": [
      "{'matrix': {'tp': 328, 'fn': 16, 'fp': 15, 'tn': 241}, 'metrics': {'accuracy': 0.9483333333333334, 'precision': 0.956268221574344, 'recall': 0.9534883720930233, 'f1': 0.9548762736535662}}\n",
      "training process finished...\n",
      "***** all metrics *****\n",
      "  epoch                    =        3.0\n",
      "  total_flos               =  1323222GF\n",
      "  train_loss               =     0.1525\n",
      "  train_runtime            = 0:08:28.05\n",
      "  train_samples_per_second =     10.629\n",
      "  train_steps_per_second   =      0.667\n",
      "Saving model...\n"
     ]
    }
   ]
  },
  {
   "cell_type": "markdown",
   "source": [
    "# Testing\n",
    "Desarrollamos una función para testear el modelo entrenado"
   ],
   "metadata": {
    "id": "0XPY0cEiykg7"
   }
  },
  {
   "cell_type": "code",
   "source": [
    "def test(df: pd.DataFrame, trained_model_path: str):\n",
    "    tokenizer = AutoTokenizer.from_pretrained(trained_model_path)\n",
    "    model = AutoModelForSequenceClassification.from_pretrained(trained_model_path)\n",
    "    tok_params = {'add_special_tokens': True,\n",
    "                  'truncation': True,\n",
    "                  'padding': 'max_length',\n",
    "                  'return_token_type_ids': True}\n",
    "\n",
    "    preds, tags = [], []\n",
    "    for idx, row in df.iterrows():\n",
    "        text = row['Titulo'] + ' ' + row['Descripcion']\n",
    "        text = processing_text(text)\n",
    "        inputs = tokenizer(text, **tok_params)\n",
    "\n",
    "        params = {'input_ids': torch.tensor([inputs[\"input_ids\"]]),\n",
    "                  'attention_mask': torch.tensor([inputs[\"attention_mask\"]]),\n",
    "                  'token_type_ids': torch.tensor([inputs[\"token_type_ids\"]])}\n",
    "\n",
    "        outputs = model(**params)\n",
    "\n",
    "        pred = outputs.logits.argmax().item()\n",
    "        preds.append(int(pred))\n",
    "        tags.append(row['Label'])\n",
    "\n",
    "    metrics = {\n",
    "        'accuracy': accuracy_score(tags, preds),\n",
    "        'precision': precision_score(tags, preds),\n",
    "        'recall': recall_score(tags, preds),\n",
    "        'f1': f1_score(tags, preds)\n",
    "    }\n",
    "    print(metrics)"
   ],
   "metadata": {
    "id": "ef6Fy-93yeWp",
    "ExecuteTime": {
     "end_time": "2024-09-02T15:49:54.090907Z",
     "start_time": "2024-09-02T15:49:54.088125Z"
    }
   },
   "execution_count": 10,
   "outputs": []
  },
  {
   "cell_type": "code",
   "source": [
    "test(test_df, './trained')"
   ],
   "metadata": {
    "id": "3NwXiFxzyt9h",
    "ExecuteTime": {
     "end_time": "2024-09-02T15:51:36.995856Z",
     "start_time": "2024-09-02T15:50:09.946494Z"
    }
   },
   "execution_count": 12,
   "outputs": [
    {
     "name": "stdout",
     "output_type": "stream",
     "text": [
      "{'accuracy': 0.9416666666666667, 'precision': 0.9520958083832335, 'recall': 0.9436201780415431, 'f1': 0.9478390461997019}\n"
     ]
    }
   ]
  }
 ]
}
